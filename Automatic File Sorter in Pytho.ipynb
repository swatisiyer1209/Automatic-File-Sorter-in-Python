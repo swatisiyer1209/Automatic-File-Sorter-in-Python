{
 "cells": [
  {
   "cell_type": "code",
   "execution_count": 23,
   "id": "3ecc4385",
   "metadata": {},
   "outputs": [],
   "source": [
    "import os, shutil #os - operating system, shutil - allows to perform  high level functions in file explore"
   ]
  },
  {
   "cell_type": "code",
   "execution_count": 24,
   "id": "89bca174",
   "metadata": {},
   "outputs": [],
   "source": [
    "path=r\"C:/Users/swati/Desktop/Python_project_file/\" #r allows to read the text in string as raw text so including the \\ and :"
   ]
  },
  {
   "cell_type": "code",
   "execution_count": 25,
   "id": "59cfe846",
   "metadata": {},
   "outputs": [],
   "source": [
    "file_name=os.listdir(path) #shows us all the files in the path"
   ]
  },
  {
   "cell_type": "code",
   "execution_count": 26,
   "id": "b5bc9edd",
   "metadata": {},
   "outputs": [],
   "source": [
    "#check if there exists a folder where you want to sort these files into or do we need to create these folders\n",
    "folder_names=['csv files', 'image files','text files']\n",
    "for name in range(0,3):\n",
    "    os.path.exists(path+folder_names[name]) #we are checking if a folder called csv files exists\n",
    "    if not os.path.exists(path+folder_names[name]):\n",
    "        os.makedirs((path+folder_names[name]))"
   ]
  },
  {
   "cell_type": "code",
   "execution_count": 27,
   "id": "45934616",
   "metadata": {},
   "outputs": [],
   "source": [
    "for file in file_name:\n",
    "    if \".csv\" in file and not os.path.exists(path+\"csv files/\"+file):\n",
    "        shutil.move(path+file,path+\"csv files/\"+file)\n",
    "    elif \".png\" in file and not os.path.exists(path+\"image files/\"+file):\n",
    "        shutil.move(path+file,path+\"image files/\"+file)\n",
    "    elif \".txt\" in file and not os.path.exists(path+\"text files/\"+file):\n",
    "        shutil.move(path+file,path+\"text files/\"+file)\n",
    "        "
   ]
  },
  {
   "cell_type": "code",
   "execution_count": null,
   "id": "391f0e40",
   "metadata": {},
   "outputs": [],
   "source": []
  }
 ],
 "metadata": {
  "kernelspec": {
   "display_name": "Python 3 (ipykernel)",
   "language": "python",
   "name": "python3"
  },
  "language_info": {
   "codemirror_mode": {
    "name": "ipython",
    "version": 3
   },
   "file_extension": ".py",
   "mimetype": "text/x-python",
   "name": "python",
   "nbconvert_exporter": "python",
   "pygments_lexer": "ipython3",
   "version": "3.11.5"
  }
 },
 "nbformat": 4,
 "nbformat_minor": 5
}
